{
 "cells": [
  {
   "cell_type": "code",
   "execution_count": 1,
   "id": "ea8bbe3d",
   "metadata": {},
   "outputs": [],
   "source": [
    "import numpy as np\n",
    "from typing import Tuple,Dict\n",
    "import pandas as pd"
   ]
  },
  {
   "cell_type": "code",
   "execution_count": 2,
   "id": "ee562568",
   "metadata": {},
   "outputs": [],
   "source": [
    "def get_distance(x:Tuple[int,int],y:Tuple[int,int])->float:\n",
    "    x_diff=(y[0]-x[0])**2\n",
    "    y_diff=(y[1]-x[1])**2\n",
    "    return np.sqrt(x_diff+y_diff)"
   ]
  },
  {
   "cell_type": "code",
   "execution_count": 3,
   "id": "a79d1680",
   "metadata": {},
   "outputs": [],
   "source": [
    "class KNN:\n",
    "    def __init__(self,dic:Dict,k):\n",
    "        self.k=k\n",
    "        self.df=pd.DataFrame(dic)\n",
    "        \n",
    "    def get_each_distance(self,test:Tuple[int,int]):\n",
    "        self.df['dist']=self.df.apply(lambda row:get_distance((row.x,row.y),test),axis=1)\n",
    "        \n",
    "        \n",
    "    def fit(self,test:Tuple[int,int]):\n",
    "        self.get_each_distance(test)\n",
    "        self.df=self.df.sort_values(by='dist').reset_index(drop=True)\n",
    "        \n",
    "        \n",
    "    def get_frequent(self,label):\n",
    "            d={}\n",
    "            for i in label:\n",
    "                if d.get(i,0):\n",
    "                    d[i]+=1\n",
    "                else:\n",
    "                    d[i]=1\n",
    "            most_frquent=None\n",
    "            most_count=0\n",
    "            for i,j in d.items():\n",
    "                if j>most_count:\n",
    "                    most_count=j\n",
    "                    most_frequent=i\n",
    "            return most_frequent\n",
    "        \n",
    "        \n",
    "    def get_label(self):\n",
    "        df=self.df.iloc[:self.k]\n",
    "        return self.get_frequent(df['label'])\n",
    "    \n",
    "    \n",
    "    def predict(self,test:Tuple[int,int]):\n",
    "        self.fit(test)\n",
    "        return self.get_label()\n",
    "        \n",
    "\n",
    "    "
   ]
  },
  {
   "cell_type": "code",
   "execution_count": 4,
   "id": "13264931",
   "metadata": {},
   "outputs": [
    {
     "name": "stdout",
     "output_type": "stream",
     "text": [
      "The predicted label for the test point (110, 110) is A\n"
     ]
    }
   ],
   "source": [
    "import random\n",
    "\n",
    "# Sample data for training\n",
    "random.seed(42)  # For reproducibility\n",
    "n_points = 50\n",
    "data = {\n",
    "    'x': [random.randint(1, 100) for _ in range(n_points)],\n",
    "    'y': [random.randint(1, 100) for _ in range(n_points)],\n",
    "    'label': [random.choice(['A', 'B', 'C']) for _ in range(n_points)]\n",
    "}\n",
    "\n",
    "# Create an instance of the KNN class\n",
    "knn = KNN(dic=data, k=5)\n",
    "\n",
    "# Test point outside the training data\n",
    "test_point = (110, 110)\n",
    "\n",
    "# Predict the label for the test point\n",
    "predicted_label = knn.predict(test_point)\n",
    "print(f'The predicted label for the test point {test_point} is {predicted_label}')\n"
   ]
  }
 ],
 "metadata": {
  "kernelspec": {
   "display_name": "Python 3 (ipykernel)",
   "language": "python",
   "name": "python3"
  },
  "language_info": {
   "codemirror_mode": {
    "name": "ipython",
    "version": 3
   },
   "file_extension": ".py",
   "mimetype": "text/x-python",
   "name": "python",
   "nbconvert_exporter": "python",
   "pygments_lexer": "ipython3",
   "version": "3.10.9"
  }
 },
 "nbformat": 4,
 "nbformat_minor": 5
}
